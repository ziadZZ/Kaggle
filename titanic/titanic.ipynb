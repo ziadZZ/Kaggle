{
 "cells": [
  {
   "cell_type": "code",
   "execution_count": 112,
   "metadata": {},
   "outputs": [],
   "source": [
    "import numpy as np\n",
    "import pandas as pd\n",
    "import seaborn as sns\n",
    "\n",
    "from sklearn.model_selection import train_test_split\n",
    "from sklearn.metrics import mean_absolute_error\n",
    "from sklearn.tree import DecisionTreeRegressor\n",
    "from sklearn.tree import DecisionTreeClassifier\n",
    "from sklearn.tree import plot_tree\n",
    "from sklearn.preprocessing import StandardScaler\n",
    "from sklearn.model_selection import GridSearchCV\n",
    "\n"
   ]
  },
  {
   "cell_type": "code",
   "execution_count": 40,
   "metadata": {},
   "outputs": [],
   "source": [
    "def evaluateBinaryClassification(y_pred, y) :\n",
    "    contigency = pd.crosstab(y, y_pred)\n",
    "    TP = contigency[1][1]\n",
    "    TN = contigency[0][0]\n",
    "    FP = contigency[0][1]\n",
    "    FN = contigency[1][0]\n",
    "    n = len(y)\n",
    "    Accuracy = (TP+TN)/n\n",
    "    Recall = TP/(TP+FN)\n",
    "    Precision = TP/(TP+FP)\n",
    "    Fscore = 2*Recall*Precision/(Recall+Precision)\n",
    "    \n",
    "    return Accuracy, Recall, Precision, Fscore"
   ]
  },
  {
   "cell_type": "code",
   "execution_count": 131,
   "metadata": {},
   "outputs": [
    {
     "name": "stdout",
     "output_type": "stream",
     "text": [
      "Index(['PassengerId', 'Survived', 'Pclass', 'Name', 'Sex', 'Age', 'SibSp',\n",
      "       'Parch', 'Ticket', 'Fare', 'Cabin', 'Embarked'],\n",
      "      dtype='object')\n",
      "(891, 12)\n"
     ]
    },
    {
     "ename": "NameError",
     "evalue": "name 'plt' is not defined",
     "output_type": "error",
     "traceback": [
      "\u001b[1;31m---------------------------------------------------------------------------\u001b[0m",
      "\u001b[1;31mNameError\u001b[0m                                 Traceback (most recent call last)",
      "\u001b[1;32mc:\\Users\\ziado\\OneDrive\\Bureau\\perso\\Kaggle\\titanic\\titanic.ipynb Cell 3\u001b[0m line \u001b[0;36m1\n\u001b[0;32m      <a href='vscode-notebook-cell:/c%3A/Users/ziado/OneDrive/Bureau/perso/Kaggle/titanic/titanic.ipynb#W2sZmlsZQ%3D%3D?line=8'>9</a>\u001b[0m \u001b[39mprint\u001b[39m(data\u001b[39m.\u001b[39mshape)\n\u001b[0;32m     <a href='vscode-notebook-cell:/c%3A/Users/ziado/OneDrive/Bureau/perso/Kaggle/titanic/titanic.ipynb#W2sZmlsZQ%3D%3D?line=10'>11</a>\u001b[0m data[\u001b[39m\"\u001b[39m\u001b[39mEmbarked\u001b[39m\u001b[39m\"\u001b[39m]\u001b[39m.\u001b[39mvalue_counts()\u001b[39m.\u001b[39mplot(kind\u001b[39m=\u001b[39m\u001b[39m'\u001b[39m\u001b[39mbarh\u001b[39m\u001b[39m'\u001b[39m)\n\u001b[1;32m---> <a href='vscode-notebook-cell:/c%3A/Users/ziado/OneDrive/Bureau/perso/Kaggle/titanic/titanic.ipynb#W2sZmlsZQ%3D%3D?line=11'>12</a>\u001b[0m plt\u001b[39m.\u001b[39mshow()\n\u001b[0;32m     <a href='vscode-notebook-cell:/c%3A/Users/ziado/OneDrive/Bureau/perso/Kaggle/titanic/titanic.ipynb#W2sZmlsZQ%3D%3D?line=12'>13</a>\u001b[0m \u001b[39m# Here I choosed to replace empty age with the mean\u001b[39;00m\n\u001b[0;32m     <a href='vscode-notebook-cell:/c%3A/Users/ziado/OneDrive/Bureau/perso/Kaggle/titanic/titanic.ipynb#W2sZmlsZQ%3D%3D?line=13'>14</a>\u001b[0m mean_age \u001b[39m=\u001b[39m data[\u001b[39m\"\u001b[39m\u001b[39mAge\u001b[39m\u001b[39m\"\u001b[39m]\u001b[39m.\u001b[39mmean()\n",
      "\u001b[1;31mNameError\u001b[0m: name 'plt' is not defined"
     ]
    },
    {
     "data": {
      "image/png": "[encoded data removed]",
      "text/plain": [
       "<Figure size 640x480 with 1 Axes>"
      ]
     },
     "metadata": {},
     "output_type": "display_data"
    }
   ],
   "source": [
    "train_data_path = 'train.csv'\n",
    "test_data_path = 'test.csv'\n",
    "\n",
    "data = pd.read_csv(train_data_path)\n",
    "\n",
    "# Analyzing the data\n",
    "columns = data.columns\n",
    "print(columns)\n",
    "print(data.shape)\n",
    "\n",
    "\n",
    "# Here I choosed to replace empty age with the mean\n",
    "mean_age = data[\"Age\"].mean()\n",
    "median_age = data.Age.median()\n",
    "data[\"Age\"].fillna(median_age, inplace=True)\n",
    "\n",
    "# Remove Cabin, Name and Ticket columns\n",
    "data.drop([\"Name\",\"Cabin\", \"Ticket\"], axis=1, inplace=True)\n",
    "data.dropna(inplace=True)\n",
    "print(data.shape)\n",
    "\n",
    "# Coding the Sex and Embarked, respectively to 0-1 and 0-2\n",
    "data[\"Sex\"] = data[\"Sex\"].replace({\"male\" : 1, \"female\" : 0})\n",
    "data[\"Embarked\"] = data[\"Embarked\"].replace({\"S\" : 0, \"C\" : 1, \"Q\" : 2})\n",
    "data.set_index(\"PassengerId\", inplace=True)\n",
    "\n",
    "\n",
    "# See the correclation between variables \n",
    "\n",
    "sns.heatmap(data.corr(), cmap = \"YlGnBu\")\n",
    "\n",
    "# Prepare the data\n",
    "X = data.iloc[:, 1:]\n",
    "y = data.iloc[: , 0]\n",
    "\n",
    "# Standarize the data\n",
    "scaler = StandardScaler()\n",
    "scaler.fit(X)\n",
    "X = pd.DataFrame(scaler.transform(X), columns = X.columns)\n",
    "\n",
    "# Split into validation and training data\n",
    "X_train, X_val, y_train, y_val = train_test_split(X, y, test_size=0.2, random_state=1)\n",
    "\n",
    "# Create a Table to compare method\n",
    "Methods = ['DTR', 'DTC', 'NB']\n",
    "Metrics = ['Accuracy', 'Recall', 'Precision', 'Fscore']\n",
    "compare_df = pd.DataFrame(index = Methods, columns=Metrics)\n",
    "\n"
   ]
  },
  {
   "cell_type": "markdown",
   "metadata": {},
   "source": [
    "## Decision Tree Regressor\n"
   ]
  },
  {
   "cell_type": "code",
   "execution_count": 42,
   "metadata": {},
   "outputs": [
    {
     "name": "stdout",
     "output_type": "stream",
     "text": [
      "       Pclass       Sex       Age     SibSp     Parch      Fare  Embarked\n",
      "120  0.825209  0.735342 -0.101340 -0.475199 -0.474326 -0.484133 -0.569684\n",
      "686  0.825209  0.735342 -0.794841 -0.475199 -0.474326 -0.441435 -0.569684\n",
      "789  0.825209  0.735342 -0.101340 -0.475199 -0.474326 -0.490173  2.575963\n",
      "835  0.825209  0.735342 -0.101340 -0.475199 -0.474326 -0.484133 -0.569684\n",
      "658 -1.572211  0.735342  2.210331 -0.475199  2.006119  1.634368  1.003139\n",
      "The propotion of false predictions: 0.15730337078651685\n",
      "Accuracy=0.8426966292134831\n",
      "Recall=0.8461538461538461\n",
      "Precision=0.7534246575342466\n",
      "Fscore=0.7971014492753623\n"
     ]
    },
    {
     "data": {
      "text/html": [
       "<div>\n",
       "<style scoped>\n",
       "    .dataframe tbody tr th:only-of-type {\n",
       "        vertical-align: middle;\n",
       "    }\n",
       "\n",
       "    .dataframe tbody tr th {\n",
       "        vertical-align: top;\n",
       "    }\n",
       "\n",
       "    .dataframe thead th {\n",
       "        text-align: right;\n",
       "    }\n",
       "</style>\n",
       "<table border=\"1\" class=\"dataframe\">\n",
       "  <thead>\n",
       "    <tr style=\"text-align: right;\">\n",
       "      <th>col_0</th>\n",
       "      <th>0</th>\n",
       "      <th>1</th>\n",
       "    </tr>\n",
       "    <tr>\n",
       "      <th>Survived</th>\n",
       "      <th></th>\n",
       "      <th></th>\n",
       "    </tr>\n",
       "  </thead>\n",
       "  <tbody>\n",
       "    <tr>\n",
       "      <th>0</th>\n",
       "      <td>95</td>\n",
       "      <td>10</td>\n",
       "    </tr>\n",
       "    <tr>\n",
       "      <th>1</th>\n",
       "      <td>18</td>\n",
       "      <td>55</td>\n",
       "    </tr>\n",
       "  </tbody>\n",
       "</table>\n",
       "</div>"
      ],
      "text/plain": [
       "col_0      0   1\n",
       "Survived        \n",
       "0         95  10\n",
       "1         18  55"
      ]
     },
     "execution_count": 42,
     "metadata": {},
     "output_type": "execute_result"
    }
   ],
   "source": [
    "# Specify Model\n",
    "DTR = DecisionTreeRegressor(max_depth = 10,  min_samples_leaf = 5, random_state=1)\n",
    "# Fit Model\n",
    "\n",
    "print(X_train.head())\n",
    "DTR.fit(X_train, y_train)\n",
    "\n",
    "# Make validation predictions\n",
    "\n",
    "y_pred_DTR = DTR.predict(X_val)\n",
    "threshold = 0.5\n",
    "y_pred_DTR = (y_pred_DTR > threshold).astype(int)\n",
    "\n",
    "# Performance\n",
    "val_MAE = mean_absolute_error(y_val, y_pred_DTR)\n",
    "print(\"The propotion of false predictions:\" , val_MAE)\n",
    "\n",
    "Accuracy, Recall, Precision, Fscore = evaluateBinaryClassification(y_pred_DTR, y_val)\n",
    "\n",
    "print('Accuracy={}'.format(Accuracy))\n",
    "print('Recall={}'.format(Recall))\n",
    "print('Precision={}'.format(Precision))\n",
    "print('Fscore={}'.format(Fscore))\n",
    "\n",
    "compare_df.loc['DTR'] = evaluateBinaryClassification(y_pred_DTR, y_val)\n",
    "\n",
    "pd.crosstab(y_val, y_pred_DTR)\n"
   ]
  },
  {
   "cell_type": "markdown",
   "metadata": {},
   "source": [
    "## Decision Tree Classifier\n",
    "\n"
   ]
  },
  {
   "cell_type": "code",
   "execution_count": 12,
   "metadata": {},
   "outputs": [
    {
     "name": "stdout",
     "output_type": "stream",
     "text": [
      "The propotion of false predictions: 0.2247191011235955\n",
      "Accuracy = 0.7752808988764045\n",
      "Recall = 0.7391304347826086\n",
      "Precision = 0.6986301369863014\n",
      "Fscore = 0.7183098591549297\n"
     ]
    },
    {
     "data": {
      "text/html": [
       "<div>\n",
       "<style scoped>\n",
       "    .dataframe tbody tr th:only-of-type {\n",
       "        vertical-align: middle;\n",
       "    }\n",
       "\n",
       "    .dataframe tbody tr th {\n",
       "        vertical-align: top;\n",
       "    }\n",
       "\n",
       "    .dataframe thead th {\n",
       "        text-align: right;\n",
       "    }\n",
       "</style>\n",
       "<table border=\"1\" class=\"dataframe\">\n",
       "  <thead>\n",
       "    <tr style=\"text-align: right;\">\n",
       "      <th>col_0</th>\n",
       "      <th>0</th>\n",
       "      <th>1</th>\n",
       "    </tr>\n",
       "    <tr>\n",
       "      <th>Survived</th>\n",
       "      <th></th>\n",
       "      <th></th>\n",
       "    </tr>\n",
       "  </thead>\n",
       "  <tbody>\n",
       "    <tr>\n",
       "      <th>0</th>\n",
       "      <td>87</td>\n",
       "      <td>18</td>\n",
       "    </tr>\n",
       "    <tr>\n",
       "      <th>1</th>\n",
       "      <td>22</td>\n",
       "      <td>51</td>\n",
       "    </tr>\n",
       "  </tbody>\n",
       "</table>\n",
       "</div>"
      ],
      "text/plain": [
       "col_0      0   1\n",
       "Survived        \n",
       "0         87  18\n",
       "1         22  51"
      ]
     },
     "execution_count": 12,
     "metadata": {},
     "output_type": "execute_result"
    }
   ],
   "source": [
    "from sklearn.tree import DecisionTreeClassifier\n",
    "\n",
    "DTC = DecisionTreeClassifier()\n",
    "DTC.fit(X_train, y_train)\n",
    "\n",
    "y_pred_DTC = DTC.predict(X_val)\n",
    "\n",
    "# Performance\n",
    "val_MAE = mean_absolute_error(y_val, y_pred_DTC)\n",
    "print(\"The propotion of false predictions:\" , val_MAE)\n",
    "\n",
    "\n",
    "Accuracy, Recall, Precision, Fscore = evaluateBinaryClassification(y_pred_DTC, y_val)\n",
    "\n",
    "print('Accuracy = {}'.format(Accuracy))\n",
    "print('Recall = {}'.format(Recall))\n",
    "print('Precision = {}'.format(Precision))\n",
    "print('Fscore = {}'.format(Fscore))\n",
    "\n",
    "\n",
    "pd.crosstab(y_val, y_pred_DTC)\n"
   ]
  },
  {
   "cell_type": "markdown",
   "metadata": {},
   "source": [
    "Tuning the DT Classifier"
   ]
  },
  {
   "cell_type": "code",
   "execution_count": 43,
   "metadata": {},
   "outputs": [
    {
     "name": "stdout",
     "output_type": "stream",
     "text": [
      "score : 0.82414064808431\n",
      "paramaters :  {'criterion': 'entropy', 'max_depth': 10, 'min_impurity_decrease': 0.005, 'min_samples_split': 5, 'splitter': 'random'}\n"
     ]
    }
   ],
   "source": [
    "from sklearn.model_selection import GridSearchCV\n",
    "\n",
    "param_grid = {\n",
    "    'criterion' : ['gini', 'entropy'],\n",
    "    \n",
    "    'splitter'   : ['best', 'random'],\n",
    "    'max_depth'  : [5, 10, 15, 20],\n",
    "    'min_samples_split' : [5, 10, 15, 20, 30],\n",
    "    'min_impurity_decrease' : [0, 0.0005, 0.001, 0.005, 0.01],\n",
    "}\n",
    "\n",
    "\n",
    "gridSearch = GridSearchCV(DecisionTreeClassifier(),\n",
    "                          param_grid, \n",
    "                          cv = 5, \n",
    "                          scoring='accuracy' )\n",
    "\n",
    "gridSearch.fit(X_train, y_train)\n",
    "\n",
    "print('score :', gridSearch.best_score_)\n",
    "print('paramaters : ' , gridSearch.best_params_)\n"
   ]
  },
  {
   "cell_type": "code",
   "execution_count": 44,
   "metadata": {},
   "outputs": [
    {
     "name": "stdout",
     "output_type": "stream",
     "text": [
      "score : 0.8269378508815131\n",
      "paramaters :  {'criterion': 'entropy', 'max_depth': 14, 'min_impurity_decrease': 0.005, 'min_samples_split': 4, 'splitter': 'random'}\n"
     ]
    }
   ],
   "source": [
    "\n",
    "param_grid = {\n",
    "    'criterion' : ['entropy'],\n",
    "    'splitter'   : [ 'random'],\n",
    "    'max_depth'  : [7, 8, 9, 10, 11, 12, 13, 14],\n",
    "    'min_samples_split' : [3,2,4,5,6, 10, 11, 12],\n",
    "    'min_impurity_decrease' : [0.0001, 0.005, 0.01] \n",
    "}\n",
    "\n",
    "\n",
    "gridSearch = GridSearchCV(DecisionTreeClassifier(),\n",
    "                          param_grid, \n",
    "                          cv = 5, \n",
    "                          scoring='accuracy' )\n",
    "\n",
    "gridSearch.fit(X_train, y_train)\n",
    "\n",
    "print('score :', gridSearch.best_score_)\n",
    "print('paramaters : ' , gridSearch.best_params_)\n"
   ]
  },
  {
   "cell_type": "code",
   "execution_count": 104,
   "metadata": {},
   "outputs": [
    {
     "name": "stdout",
     "output_type": "stream",
     "text": [
      "The propotion of false predictions: 0.16853932584269662\n",
      "Accuracy = 0.8314606741573034\n",
      "Recall = 0.9387755102040817\n",
      "Precision = 0.6301369863013698\n",
      "Fscore = 0.7540983606557377\n"
     ]
    },
    {
     "data": {
      "text/html": [
       "<div>\n",
       "<style scoped>\n",
       "    .dataframe tbody tr th:only-of-type {\n",
       "        vertical-align: middle;\n",
       "    }\n",
       "\n",
       "    .dataframe tbody tr th {\n",
       "        vertical-align: top;\n",
       "    }\n",
       "\n",
       "    .dataframe thead th {\n",
       "        text-align: right;\n",
       "    }\n",
       "</style>\n",
       "<table border=\"1\" class=\"dataframe\">\n",
       "  <thead>\n",
       "    <tr style=\"text-align: right;\">\n",
       "      <th>col_0</th>\n",
       "      <th>0</th>\n",
       "      <th>1</th>\n",
       "    </tr>\n",
       "    <tr>\n",
       "      <th>Survived</th>\n",
       "      <th></th>\n",
       "      <th></th>\n",
       "    </tr>\n",
       "  </thead>\n",
       "  <tbody>\n",
       "    <tr>\n",
       "      <th>0</th>\n",
       "      <td>102</td>\n",
       "      <td>3</td>\n",
       "    </tr>\n",
       "    <tr>\n",
       "      <th>1</th>\n",
       "      <td>27</td>\n",
       "      <td>46</td>\n",
       "    </tr>\n",
       "  </tbody>\n",
       "</table>\n",
       "</div>"
      ],
      "text/plain": [
       "col_0       0   1\n",
       "Survived         \n",
       "0         102   3\n",
       "1          27  46"
      ]
     },
     "execution_count": 104,
     "metadata": {},
     "output_type": "execute_result"
    }
   ],
   "source": [
    "best_criterion = 'entropy'\n",
    "best_max_depth = 14\n",
    "best_min_impurity_decrease = 0.005\n",
    "best_min_samples_split =4\n",
    "best_splitter = 'random'\n",
    "\n",
    "DTC = DecisionTreeClassifier(criterion = best_criterion, \n",
    "                             max_depth = best_max_depth,\n",
    "                             min_impurity_decrease = best_min_impurity_decrease,\n",
    "                             min_samples_split = best_min_samples_split,\n",
    "                            splitter = best_splitter)\n",
    "DTC.fit(X_train, y_train)\n",
    "\n",
    "y_pred_DTC = DTC.predict(X_val)\n",
    "\n",
    "# Performance\n",
    "val_MAE = mean_absolute_error(y_val, y_pred_DTC)\n",
    "print(\"The propotion of false predictions:\" , val_MAE)\n",
    "\n",
    "\n",
    "Accuracy, Recall, Precision, Fscore = evaluateBinaryClassification(y_pred_DTC, y_val)\n",
    "\n",
    "print('Accuracy = {}'.format(Accuracy))\n",
    "print('Recall = {}'.format(Recall))\n",
    "print('Precision = {}'.format(Precision))\n",
    "print('Fscore = {}'.format(Fscore))\n",
    "\n",
    "compare_df.loc['DTC'] = evaluateBinaryClassification(y_pred_DTC, y_val)\n",
    "\n",
    "\n",
    "pd.crosstab(y_val, y_pred_DTC)\n",
    "\n"
   ]
  },
  {
   "cell_type": "markdown",
   "metadata": {},
   "source": [
    "## K Nearest Neighbors"
   ]
  },
  {
   "cell_type": "code",
   "execution_count": 46,
   "metadata": {},
   "outputs": [
    {
     "name": "stdout",
     "output_type": "stream",
     "text": [
      "The propotion of false predictions: 0.19662921348314608\n",
      "Accuracy = 0.8033707865168539\n",
      "Recall = 0.8166666666666667\n",
      "Precision = 0.6712328767123288\n",
      "Fscore = 0.7368421052631579\n"
     ]
    },
    {
     "data": {
      "text/html": [
       "<div>\n",
       "<style scoped>\n",
       "    .dataframe tbody tr th:only-of-type {\n",
       "        vertical-align: middle;\n",
       "    }\n",
       "\n",
       "    .dataframe tbody tr th {\n",
       "        vertical-align: top;\n",
       "    }\n",
       "\n",
       "    .dataframe thead th {\n",
       "        text-align: right;\n",
       "    }\n",
       "</style>\n",
       "<table border=\"1\" class=\"dataframe\">\n",
       "  <thead>\n",
       "    <tr style=\"text-align: right;\">\n",
       "      <th>col_0</th>\n",
       "      <th>0</th>\n",
       "      <th>1</th>\n",
       "    </tr>\n",
       "    <tr>\n",
       "      <th>Survived</th>\n",
       "      <th></th>\n",
       "      <th></th>\n",
       "    </tr>\n",
       "  </thead>\n",
       "  <tbody>\n",
       "    <tr>\n",
       "      <th>0</th>\n",
       "      <td>94</td>\n",
       "      <td>11</td>\n",
       "    </tr>\n",
       "    <tr>\n",
       "      <th>1</th>\n",
       "      <td>24</td>\n",
       "      <td>49</td>\n",
       "    </tr>\n",
       "  </tbody>\n",
       "</table>\n",
       "</div>"
      ],
      "text/plain": [
       "col_0      0   1\n",
       "Survived        \n",
       "0         94  11\n",
       "1         24  49"
      ]
     },
     "execution_count": 46,
     "metadata": {},
     "output_type": "execute_result"
    }
   ],
   "source": [
    "from sklearn.neighbors import KNeighborsClassifier\n",
    "\n",
    "knn = KNeighborsClassifier(n_neighbors=3).fit(X_train, y_train)\n",
    "y_pred_knn = knn.predict(X_val)\n",
    "\n",
    "# Performance\n",
    "val_MAE = mean_absolute_error(y_val, y_pred_knn)\n",
    "print(\"The propotion of false predictions:\" , val_MAE)\n",
    "Accuracy, Recall, Precision, Fscore = evaluateBinaryClassification(y_pred_knn, y_val)\n",
    "print('Accuracy = {}'.format(Accuracy))\n",
    "print('Recall = {}'.format(Recall))\n",
    "print('Precision = {}'.format(Precision))\n",
    "print('Fscore = {}'.format(Fscore))\n",
    "\n",
    "compare_df.loc['NB'] = evaluateBinaryClassification(y_pred_knn, y_val)\n",
    "\n",
    "\n",
    "pd.crosstab(y_val, y_pred_knn)\n"
   ]
  },
  {
   "cell_type": "markdown",
   "metadata": {},
   "source": [
    "Tuning K nearest neighbors\n"
   ]
  },
  {
   "cell_type": "code",
   "execution_count": 47,
   "metadata": {},
   "outputs": [
    {
     "name": "stdout",
     "output_type": "stream",
     "text": [
      "score : 0.8087067861715749\n",
      "paramaters :  {'n_neighbors': 10, 'weights': 'uniform'}\n"
     ]
    }
   ],
   "source": [
    "param_grid_knn = { 'n_neighbors' : [1, 2, 3, 5, 8, 10],\n",
    "                    'weights'    : ['uniform', 'distance'],\n",
    "                }\n",
    "\n",
    "gridSearch_knn = GridSearchCV(KNeighborsClassifier(),\n",
    "                              param_grid= param_grid_knn,\n",
    "                              cv = 5,\n",
    "                              scoring='accuracy')\n",
    "\n",
    "gridSearch_knn.fit(X_train, y_train)\n",
    "\n",
    "print('score :', gridSearch_knn.best_score_)\n",
    "print('paramaters : ' , gridSearch_knn.best_params_)"
   ]
  },
  {
   "cell_type": "code",
   "execution_count": 48,
   "metadata": {},
   "outputs": [
    {
     "name": "stdout",
     "output_type": "stream",
     "text": [
      "score : 0.8087067861715749\n",
      "paramaters :  {'n_neighbors': 10, 'weights': 'uniform'}\n"
     ]
    }
   ],
   "source": [
    "param_grid_knn = { 'n_neighbors' : [8, 10, 11, 12, 13, 14 , 20],\n",
    "                    'weights'    : ['uniform'],\n",
    "                }\n",
    "\n",
    "gridSearch_knn = GridSearchCV(KNeighborsClassifier(),\n",
    "                              param_grid= param_grid_knn,\n",
    "                              cv = 5,\n",
    "                              scoring='accuracy')\n",
    "\n",
    "gridSearch_knn.fit(X_train, y_train)\n",
    "\n",
    "print('score :', gridSearch_knn.best_score_)\n",
    "print('paramaters : ' , gridSearch_knn.best_params_)"
   ]
  },
  {
   "cell_type": "code",
   "execution_count": 110,
   "metadata": {},
   "outputs": [
    {
     "name": "stdout",
     "output_type": "stream",
     "text": [
      "       Pclass       Sex       Age     SibSp     Parch      Fare  Embarked\n",
      "120  0.825209  0.735342 -0.101340 -0.475199 -0.474326 -0.484133 -0.569684\n",
      "686  0.825209  0.735342 -0.794841 -0.475199 -0.474326 -0.441435 -0.569684\n",
      "789  0.825209  0.735342 -0.101340 -0.475199 -0.474326 -0.490173  2.575963\n",
      "835  0.825209  0.735342 -0.101340 -0.475199 -0.474326 -0.484133 -0.569684\n",
      "658 -1.572211  0.735342  2.210331 -0.475199  2.006119  1.634368  1.003139\n",
      "..        ...       ...       ...       ...       ...       ...       ...\n",
      "715 -1.572211 -1.359911  0.669217 -0.475199 -0.474326  3.934570  1.003139\n",
      "767  0.825209  0.735342 -0.101340  0.431350 -0.474326 -0.159991  2.575963\n",
      "72   0.825209  0.735342 -0.255451  0.431350 -0.474326 -0.355197  1.003139\n",
      "235 -0.373501  0.735342  1.131551  0.431350 -0.474326 -0.122745 -0.569684\n",
      "37   0.825209  0.735342 -0.640730 -0.475199 -0.474326 -0.484133 -0.569684\n",
      "\n",
      "[711 rows x 7 columns]\n",
      "The propotion of false predictions: 0.1853932584269663\n",
      "Accuracy = 0.8146067415730337\n",
      "Recall = 0.8571428571428571\n",
      "Precision = 0.6575342465753424\n",
      "Fscore = 0.7441860465116279\n"
     ]
    },
    {
     "data": {
      "text/html": [
       "<div>\n",
       "<style scoped>\n",
       "    .dataframe tbody tr th:only-of-type {\n",
       "        vertical-align: middle;\n",
       "    }\n",
       "\n",
       "    .dataframe tbody tr th {\n",
       "        vertical-align: top;\n",
       "    }\n",
       "\n",
       "    .dataframe thead th {\n",
       "        text-align: right;\n",
       "    }\n",
       "</style>\n",
       "<table border=\"1\" class=\"dataframe\">\n",
       "  <thead>\n",
       "    <tr style=\"text-align: right;\">\n",
       "      <th>col_0</th>\n",
       "      <th>0</th>\n",
       "      <th>1</th>\n",
       "    </tr>\n",
       "    <tr>\n",
       "      <th>Survived</th>\n",
       "      <th></th>\n",
       "      <th></th>\n",
       "    </tr>\n",
       "  </thead>\n",
       "  <tbody>\n",
       "    <tr>\n",
       "      <th>0</th>\n",
       "      <td>97</td>\n",
       "      <td>8</td>\n",
       "    </tr>\n",
       "    <tr>\n",
       "      <th>1</th>\n",
       "      <td>25</td>\n",
       "      <td>48</td>\n",
       "    </tr>\n",
       "  </tbody>\n",
       "</table>\n",
       "</div>"
      ],
      "text/plain": [
       "col_0      0   1\n",
       "Survived        \n",
       "0         97   8\n",
       "1         25  48"
      ]
     },
     "execution_count": 110,
     "metadata": {},
     "output_type": "execute_result"
    }
   ],
   "source": [
    "knn = KNeighborsClassifier(n_neighbors=10, weights= 'uniform').fit(X_train, y_train)\n",
    "y_pred_knn = knn.predict(X_val)\n",
    "\n",
    "# Performance\n",
    "val_MAE = mean_absolute_error(y_val, y_pred_knn)\n",
    "print(\"The propotion of false predictions:\" , val_MAE)\n",
    "Accuracy, Recall, Precision, Fscore = evaluateBinaryClassification(y_pred_knn, y_val)\n",
    "print('Accuracy = {}'.format(Accuracy))\n",
    "print('Recall = {}'.format(Recall))\n",
    "print('Precision = {}'.format(Precision))\n",
    "print('Fscore = {}'.format(Fscore))\n",
    "\n",
    "compare_df.loc['KNN'] = evaluateBinaryClassification(y_pred_knn, y_val)\n",
    "\n",
    "\n",
    "pd.crosstab(y_val, y_pred_knn)"
   ]
  },
  {
   "cell_type": "markdown",
   "metadata": {},
   "source": [
    "## Naive Bayesian Classification"
   ]
  },
  {
   "cell_type": "code",
   "execution_count": 50,
   "metadata": {},
   "outputs": [
    {
     "name": "stdout",
     "output_type": "stream",
     "text": [
      "The propotion of false predictions: 0.34831460674157305\n",
      "Accuracy = 0.651685393258427\n",
      "Recall = 0.5964912280701754\n",
      "Precision = 0.4657534246575342\n",
      "Fscore = 0.5230769230769231\n"
     ]
    },
    {
     "data": {
      "text/html": [
       "<div>\n",
       "<style scoped>\n",
       "    .dataframe tbody tr th:only-of-type {\n",
       "        vertical-align: middle;\n",
       "    }\n",
       "\n",
       "    .dataframe tbody tr th {\n",
       "        vertical-align: top;\n",
       "    }\n",
       "\n",
       "    .dataframe thead th {\n",
       "        text-align: right;\n",
       "    }\n",
       "</style>\n",
       "<table border=\"1\" class=\"dataframe\">\n",
       "  <thead>\n",
       "    <tr style=\"text-align: right;\">\n",
       "      <th>col_0</th>\n",
       "      <th>0</th>\n",
       "      <th>1</th>\n",
       "    </tr>\n",
       "    <tr>\n",
       "      <th>Survived</th>\n",
       "      <th></th>\n",
       "      <th></th>\n",
       "    </tr>\n",
       "  </thead>\n",
       "  <tbody>\n",
       "    <tr>\n",
       "      <th>0</th>\n",
       "      <td>82</td>\n",
       "      <td>23</td>\n",
       "    </tr>\n",
       "    <tr>\n",
       "      <th>1</th>\n",
       "      <td>39</td>\n",
       "      <td>34</td>\n",
       "    </tr>\n",
       "  </tbody>\n",
       "</table>\n",
       "</div>"
      ],
      "text/plain": [
       "col_0      0   1\n",
       "Survived        \n",
       "0         82  23\n",
       "1         39  34"
      ]
     },
     "execution_count": 50,
     "metadata": {},
     "output_type": "execute_result"
    }
   ],
   "source": [
    "from sklearn.naive_bayes import MultinomialNB\n",
    "\n",
    "X = data.iloc[:, 1:]\n",
    "X_train, X_val, y_train, y_val = train_test_split(X, y, test_size=0.2, random_state=1)\n",
    "\n",
    "# Making prediction\n",
    "nb = MultinomialNB()\n",
    "nb.fit(X_train, y_train)\n",
    "y_pred_nb = nb.predict(X_val)\n",
    "\n",
    "\n",
    "# Performance\n",
    "val_MAE = mean_absolute_error(y_val, y_pred_nb)\n",
    "print(\"The propotion of false predictions:\" , val_MAE)\n",
    "Accuracy, Recall, Precision, Fscore = evaluateBinaryClassification(y_pred_nb, y_val)\n",
    "print('Accuracy = {}'.format(Accuracy))\n",
    "print('Recall = {}'.format(Recall))\n",
    "print('Precision = {}'.format(Precision))\n",
    "print('Fscore = {}'.format(Fscore))\n",
    "\n",
    "compare_df.loc['NB'] = evaluateBinaryClassification(y_pred_nb, y_val)\n",
    "\n",
    "\n",
    "pd.crosstab(y_val, y_pred_nb)\n",
    "\n"
   ]
  },
  {
   "cell_type": "markdown",
   "metadata": {},
   "source": [
    "Tuning our Naive Bayesien "
   ]
  },
  {
   "cell_type": "code",
   "execution_count": 251,
   "metadata": {},
   "outputs": [
    {
     "name": "stdout",
     "output_type": "stream",
     "text": [
      "Number of No for threshold 0.95 is 110\n",
      "Number of No for threshold 0.9555555555555555 is 108\n",
      "Number of No for threshold 0.961111111111111 is 108\n",
      "Number of No for threshold 0.9666666666666667 is 108\n",
      "Number of No for threshold 0.9722222222222222 is 107\n",
      "Number of No for threshold 0.9777777777777777 is 107\n",
      "Number of No for threshold 0.9833333333333333 is 107\n",
      "Number of No for threshold 0.9888888888888889 is 106\n",
      "Number of No for threshold 0.9944444444444445 is 97\n",
      "Number of No for threshold 1.0 is 0\n"
     ]
    }
   ],
   "source": [
    "y_prob = nb.predict_proba(X_val)   \n",
    "\n",
    "summary_df = pd.concat([pd.DataFrame({'actual' : y_val, 'pred' : y_pred_nb}),\n",
    "                        pd.DataFrame(y_prob, index = y_val.index, columns = ['No_prob', 'Yes_prob'])], axis = 1)\n",
    "\n",
    "summary_df.sort_values('No_prob', ascending=False)\n",
    "\n",
    "Thresholds = np.linspace(0.95, 1, 10)\n",
    "for tr in Thresholds :\n",
    "    No_number = np.sum(summary_df.No_prob > tr)\n",
    "    print(\"Number of No for threshold {} is {}\".format(tr, No_number))\n",
    "    \n",
    "best_tr = 0.8"
   ]
  },
  {
   "cell_type": "code",
   "execution_count": 265,
   "metadata": {},
   "outputs": [
    {
     "name": "stdout",
     "output_type": "stream",
     "text": [
      "The propotion of false predictions: 0.34831460674157305\n",
      "Accuracy = 0.651685393258427\n",
      "Recall = 0.5964912280701754\n",
      "Precision = 0.4657534246575342\n",
      "Fscore = 0.5230769230769231\n"
     ]
    },
    {
     "data": {
      "text/html": [
       "<div>\n",
       "<style scoped>\n",
       "    .dataframe tbody tr th:only-of-type {\n",
       "        vertical-align: middle;\n",
       "    }\n",
       "\n",
       "    .dataframe tbody tr th {\n",
       "        vertical-align: top;\n",
       "    }\n",
       "\n",
       "    .dataframe thead th {\n",
       "        text-align: right;\n",
       "    }\n",
       "</style>\n",
       "<table border=\"1\" class=\"dataframe\">\n",
       "  <thead>\n",
       "    <tr style=\"text-align: right;\">\n",
       "      <th>No_prob</th>\n",
       "      <th>0</th>\n",
       "      <th>1</th>\n",
       "    </tr>\n",
       "    <tr>\n",
       "      <th>Survived</th>\n",
       "      <th></th>\n",
       "      <th></th>\n",
       "    </tr>\n",
       "  </thead>\n",
       "  <tbody>\n",
       "    <tr>\n",
       "      <th>0</th>\n",
       "      <td>82</td>\n",
       "      <td>23</td>\n",
       "    </tr>\n",
       "    <tr>\n",
       "      <th>1</th>\n",
       "      <td>39</td>\n",
       "      <td>34</td>\n",
       "    </tr>\n",
       "  </tbody>\n",
       "</table>\n",
       "</div>"
      ],
      "text/plain": [
       "No_prob    0   1\n",
       "Survived        \n",
       "0         82  23\n",
       "1         39  34"
      ]
     },
     "execution_count": 265,
     "metadata": {},
     "output_type": "execute_result"
    }
   ],
   "source": [
    "y_pred_nb = pd.Series(summary_df.No_prob > 0.5).replace({True : 0, False : 1})\n",
    "\n",
    "# Performance\n",
    "val_MAE = mean_absolute_error(y_val, y_pred_nb)\n",
    "print(\"The propotion of false predictions:\" , val_MAE)\n",
    "Accuracy, Recall, Precision, Fscore = evaluateBinaryClassification(y_pred_nb, y_val)\n",
    "print('Accuracy = {}'.format(Accuracy))\n",
    "print('Recall = {}'.format(Recall))\n",
    "print('Precision = {}'.format(Precision))\n",
    "print('Fscore = {}'.format(Fscore))\n",
    "pd.crosstab(y_val, y_pred_nb)"
   ]
  },
  {
   "cell_type": "code",
   "execution_count": 111,
   "metadata": {},
   "outputs": [
    {
     "data": {
      "text/html": [
       "<div>\n",
       "<style scoped>\n",
       "    .dataframe tbody tr th:only-of-type {\n",
       "        vertical-align: middle;\n",
       "    }\n",
       "\n",
       "    .dataframe tbody tr th {\n",
       "        vertical-align: top;\n",
       "    }\n",
       "\n",
       "    .dataframe thead th {\n",
       "        text-align: right;\n",
       "    }\n",
       "</style>\n",
       "<table border=\"1\" class=\"dataframe\">\n",
       "  <thead>\n",
       "    <tr style=\"text-align: right;\">\n",
       "      <th></th>\n",
       "      <th>Accuracy</th>\n",
       "      <th>Recall</th>\n",
       "      <th>Precision</th>\n",
       "      <th>Fscore</th>\n",
       "    </tr>\n",
       "  </thead>\n",
       "  <tbody>\n",
       "    <tr>\n",
       "      <th>DTR</th>\n",
       "      <td>NaN</td>\n",
       "      <td>NaN</td>\n",
       "      <td>NaN</td>\n",
       "      <td>NaN</td>\n",
       "    </tr>\n",
       "    <tr>\n",
       "      <th>DTC</th>\n",
       "      <td>0.831461</td>\n",
       "      <td>0.938776</td>\n",
       "      <td>0.630137</td>\n",
       "      <td>0.754098</td>\n",
       "    </tr>\n",
       "    <tr>\n",
       "      <th>NB</th>\n",
       "      <td>NaN</td>\n",
       "      <td>NaN</td>\n",
       "      <td>NaN</td>\n",
       "      <td>NaN</td>\n",
       "    </tr>\n",
       "    <tr>\n",
       "      <th>KNN</th>\n",
       "      <td>0.814607</td>\n",
       "      <td>0.857143</td>\n",
       "      <td>0.657534</td>\n",
       "      <td>0.744186</td>\n",
       "    </tr>\n",
       "  </tbody>\n",
       "</table>\n",
       "</div>"
      ],
      "text/plain": [
       "     Accuracy    Recall Precision    Fscore\n",
       "DTR       NaN       NaN       NaN       NaN\n",
       "DTC  0.831461  0.938776  0.630137  0.754098\n",
       "NB        NaN       NaN       NaN       NaN\n",
       "KNN  0.814607  0.857143  0.657534  0.744186"
      ]
     },
     "execution_count": 111,
     "metadata": {},
     "output_type": "execute_result"
    }
   ],
   "source": [
    "compare_df"
   ]
  },
  {
   "cell_type": "code",
   "execution_count": 133,
   "metadata": {},
   "outputs": [
    {
     "name": "stdout",
     "output_type": "stream",
     "text": [
      "(418, 11)\n"
     ]
    }
   ],
   "source": [
    "# Here I choosed to replace empty age with the mean\n",
    "# mean_age = test[\"Age\"].mean()\n",
    "# median_age = test.Age.median()\n",
    "\n",
    "test = pd.read_csv(test_data_path)\n",
    "test[\"Age\"].fillna(median_age, inplace=True)\n",
    "print(test.shape)\n",
    "\n",
    "\n",
    "\n",
    "# Remove Cabin, Name and Ticket columns\n",
    "test.drop([\"Name\",\"Cabin\", \"Ticket\"], axis=1, inplace=True)\n",
    "test.set_index('PassengerId', inplace=True)\n",
    "median_fare = test.Fare.median()\n",
    "test.Fare.fillna(median_fare, inplace=True)\n",
    "\n",
    "\n",
    "# Coding the Sex and Embarked, respectively to 0-1 and 0-2\n",
    "test[\"Sex\"] = test[\"Sex\"].replace({\"male\" : 1, \"female\" : 0})\n",
    "test[\"Embarked\"] = test[\"Embarked\"].replace({\"S\" : 0, \"C\" : 1, \"Q\" : 2})\n",
    "\n",
    "\n",
    "# Prepare data\n",
    "X_test = test\n",
    "\n",
    "# Standarize the data\n",
    "scaler = StandardScaler()\n",
    "scaler.fit(X_test)\n",
    "X_test = pd.DataFrame(scaler.transform(X_test), columns = X_test.columns)\n",
    "\n",
    "\n",
    "# Prediction with DTR \n",
    "y_pred_DR = DTR.predict(X_test)\n",
    "threshold = 0.5\n",
    "y_pred_DR = (y_pred_DR > threshold).astype(int)\n",
    "y_pred_DR = pd.Series(y_pred_DR, index=test.index, name= 'Survived')\n",
    "y_pred_DR.to_csv('UsingDTR_v1.csv')\n",
    "\n",
    "# Prediction with DTC \n",
    "\n",
    "y_pred_DC = DTC.predict(X_test)\n",
    "y_pred_DC = pd.Series(y_pred_DC, index=test.index, name= 'Survived')\n",
    "y_pred_DC.to_csv('UsingDTC_v1.csv')\n",
    "\n",
    "# Prediction with KNN\n",
    "\n",
    "y_pred_KNN = knn.predict(X_test)\n",
    "y_pred_KNN = pd.Series(y_pred_KNN, index=test.index, name= 'Survived')\n",
    "y_pred_KNN.to_csv('UsingKNN_v1.csv')\n"
   ]
  }
 ],
 "metadata": {
  "kernelspec": {
   "display_name": "base",
   "language": "python",
   "name": "python3"
  },
  "language_info": {
   "codemirror_mode": {
    "name": "ipython",
    "version": 3
   },
   "file_extension": ".py",
   "mimetype": "text/x-python",
   "name": "python",
   "nbconvert_exporter": "python",
   "pygments_lexer": "ipython3",
   "version": "3.9.18"
  }
 },
 "nbformat": 4,
 "nbformat_minor": 2
}
